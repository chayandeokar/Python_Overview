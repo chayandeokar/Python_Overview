{
 "cells": [
  {
   "cell_type": "markdown",
   "id": "652f2611",
   "metadata": {},
   "source": [
    "# FOR , While LOOP , Tuple"
   ]
  },
  {
   "cell_type": "code",
   "execution_count": 5,
   "id": "9884d0d9",
   "metadata": {},
   "outputs": [],
   "source": [
    "mobile = [111 , 222 , 333 , 444]"
   ]
  },
  {
   "cell_type": "code",
   "execution_count": 6,
   "id": "4749867c",
   "metadata": {},
   "outputs": [
    {
     "name": "stdout",
     "output_type": "stream",
     "text": [
      "found\n",
      "not found\n"
     ]
    }
   ],
   "source": [
    "for m in mobile:\n",
    "    if m == 111:\n",
    "        print(\"found\")\n",
    "else:\n",
    "    print(\"not found\")"
   ]
  },
  {
   "cell_type": "code",
   "execution_count": 7,
   "id": "d40bec0e",
   "metadata": {},
   "outputs": [
    {
     "name": "stdout",
     "output_type": "stream",
     "text": [
      "found\n"
     ]
    }
   ],
   "source": [
    "for m in mobile:\n",
    "    if m == 111:\n",
    "        print(\"found\")\n",
    "        break\n",
    "else:\n",
    "    print(\"not found\")"
   ]
  },
  {
   "cell_type": "code",
   "execution_count": null,
   "id": "0836ab33",
   "metadata": {},
   "outputs": [],
   "source": [
    "else if supported with if ,for ,while "
   ]
  },
  {
   "cell_type": "code",
   "execution_count": 9,
   "id": "751b0923",
   "metadata": {},
   "outputs": [],
   "source": [
    "salary=20"
   ]
  },
  {
   "cell_type": "code",
   "execution_count": 10,
   "id": "ce5b03bb",
   "metadata": {
    "scrolled": true
   },
   "outputs": [],
   "source": [
    "target = 40 if salary > 4 else 20"
   ]
  },
  {
   "cell_type": "code",
   "execution_count": 11,
   "id": "1f548d2f",
   "metadata": {},
   "outputs": [
    {
     "data": {
      "text/plain": [
       "40"
      ]
     },
     "execution_count": 11,
     "metadata": {},
     "output_type": "execute_result"
    }
   ],
   "source": [
    "target"
   ]
  },
  {
   "cell_type": "code",
   "execution_count": 17,
   "id": "e06e1439",
   "metadata": {},
   "outputs": [],
   "source": [
    "db = [1,2,3,4,5]\n",
    "output = []\n",
    "for i in db:\n",
    "    j = i ** 2\n",
    "    output.append(j) ##storing data for future usecase"
   ]
  },
  {
   "cell_type": "code",
   "execution_count": 18,
   "id": "66111986",
   "metadata": {},
   "outputs": [
    {
     "data": {
      "text/plain": [
       "[1, 4, 9, 16, 25]"
      ]
     },
     "execution_count": 18,
     "metadata": {},
     "output_type": "execute_result"
    }
   ],
   "source": [
    "output"
   ]
  },
  {
   "cell_type": "code",
   "execution_count": 19,
   "id": "5933d6f1",
   "metadata": {},
   "outputs": [],
   "source": [
    "##ETL Operation  \n",
    "## List Comperension \n",
    "\n",
    "output = [ i**2 for i in db]"
   ]
  },
  {
   "cell_type": "code",
   "execution_count": 20,
   "id": "825e8acb",
   "metadata": {},
   "outputs": [
    {
     "data": {
      "text/plain": [
       "[1, 4, 9, 16, 25]"
      ]
     },
     "execution_count": 20,
     "metadata": {},
     "output_type": "execute_result"
    }
   ],
   "source": [
    "output"
   ]
  },
  {
   "cell_type": "code",
   "execution_count": null,
   "id": "9bbd1b68",
   "metadata": {},
   "outputs": [],
   "source": [
    "#### change code with one line ###"
   ]
  },
  {
   "cell_type": "code",
   "execution_count": 25,
   "id": "33b30251",
   "metadata": {},
   "outputs": [],
   "source": [
    "name = [\"pop\" , \"eric\" , \"tom@redhat.com\" , \"vimal\"]"
   ]
  },
  {
   "cell_type": "code",
   "execution_count": 26,
   "id": "ed2e6e84",
   "metadata": {},
   "outputs": [],
   "source": [
    "final_emails = [n + \"@gmail.com\" for n in name if not n.endswith(\"@redhat.com\")]"
   ]
  },
  {
   "cell_type": "code",
   "execution_count": 27,
   "id": "96c5dba3",
   "metadata": {},
   "outputs": [
    {
     "data": {
      "text/plain": [
       "['pop@gmail.com', 'eric@gmail.com', 'vimal@gmail.com']"
      ]
     },
     "execution_count": 27,
     "metadata": {},
     "output_type": "execute_result"
    }
   ],
   "source": [
    "final_emails"
   ]
  },
  {
   "cell_type": "code",
   "execution_count": 28,
   "id": "2432410c",
   "metadata": {},
   "outputs": [],
   "source": [
    "x = 2\n",
    "y = 5\n",
    "y += x"
   ]
  },
  {
   "cell_type": "code",
   "execution_count": 32,
   "id": "1b1e112c",
   "metadata": {},
   "outputs": [
    {
     "data": {
      "text/plain": [
       "7"
      ]
     },
     "execution_count": 32,
     "metadata": {},
     "output_type": "execute_result"
    }
   ],
   "source": [
    "y"
   ]
  },
  {
   "cell_type": "markdown",
   "id": "a750d6bc",
   "metadata": {},
   "source": [
    "# While Loop"
   ]
  },
  {
   "cell_type": "code",
   "execution_count": 33,
   "id": "28fe48d0",
   "metadata": {},
   "outputs": [
    {
     "name": "stdout",
     "output_type": "stream",
     "text": [
      "essay\n"
     ]
    }
   ],
   "source": [
    "page =1\n",
    "\n",
    "while page <= 10:\n",
    "    if page == 5:\n",
    "        print(\"essay\")\n",
    "        break\n",
    "    page += 1\n",
    "else:\n",
    "    print(\"bye\")"
   ]
  },
  {
   "cell_type": "code",
   "execution_count": 34,
   "id": "5e024bb4",
   "metadata": {},
   "outputs": [],
   "source": [
    "x=5"
   ]
  },
  {
   "cell_type": "code",
   "execution_count": 35,
   "id": "671add7f",
   "metadata": {},
   "outputs": [
    {
     "data": {
      "text/plain": [
       "1745834803568"
      ]
     },
     "execution_count": 35,
     "metadata": {},
     "output_type": "execute_result"
    }
   ],
   "source": [
    "id(x)"
   ]
  },
  {
   "cell_type": "code",
   "execution_count": 36,
   "id": "dd221ea6",
   "metadata": {},
   "outputs": [],
   "source": [
    "y=5\n",
    "z=5"
   ]
  },
  {
   "cell_type": "code",
   "execution_count": 37,
   "id": "88de4399",
   "metadata": {},
   "outputs": [
    {
     "data": {
      "text/plain": [
       "1745834803568"
      ]
     },
     "execution_count": 37,
     "metadata": {},
     "output_type": "execute_result"
    }
   ],
   "source": [
    "id(x)\n",
    "id(y)\n",
    "id(z) ###same adresss for all"
   ]
  },
  {
   "cell_type": "code",
   "execution_count": 38,
   "id": "310d7f9e",
   "metadata": {},
   "outputs": [],
   "source": [
    "# Tuple : RO : immutable we cant add or change in it\n",
    "\n",
    "name = (\"jack\" , \"pop\" , \"vimal\" , \"krish\")"
   ]
  },
  {
   "cell_type": "code",
   "execution_count": null,
   "id": "6956f47e",
   "metadata": {},
   "outputs": [],
   "source": []
  }
 ],
 "metadata": {
  "kernelspec": {
   "display_name": "Python 3 (ipykernel)",
   "language": "python",
   "name": "python3"
  },
  "language_info": {
   "codemirror_mode": {
    "name": "ipython",
    "version": 3
   },
   "file_extension": ".py",
   "mimetype": "text/x-python",
   "name": "python",
   "nbconvert_exporter": "python",
   "pygments_lexer": "ipython3",
   "version": "3.10.2"
  }
 },
 "nbformat": 4,
 "nbformat_minor": 5
}
