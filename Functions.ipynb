{
 "cells": [
  {
   "cell_type": "markdown",
   "id": "1da7fad9",
   "metadata": {},
   "source": [
    "# Functions"
   ]
  },
  {
   "cell_type": "code",
   "execution_count": null,
   "id": "0e13b1a3",
   "metadata": {},
   "outputs": [],
   "source": [
    "## we genrally create function so that whnever we want to call we can call it "
   ]
  },
  {
   "cell_type": "code",
   "execution_count": 1,
   "id": "76849913",
   "metadata": {},
   "outputs": [],
   "source": [
    " def lw():\n",
    "    print(\"hi\")\n",
    "    x=5\n",
    "    print(x)"
   ]
  },
  {
   "cell_type": "code",
   "execution_count": 2,
   "id": "c4d641a4",
   "metadata": {},
   "outputs": [
    {
     "name": "stdout",
     "output_type": "stream",
     "text": [
      "hi\n",
      "5\n"
     ]
    }
   ],
   "source": [
    "lw()"
   ]
  },
  {
   "cell_type": "code",
   "execution_count": 3,
   "id": "ea2bd659",
   "metadata": {},
   "outputs": [],
   "source": [
    "## Passing Some Agrument\n",
    "## Fuction Signature\n",
    "def lw(i ,j):\n",
    "    x = i\n",
    "    y = j\n",
    "    z = x + y\n",
    "    print(z)"
   ]
  },
  {
   "cell_type": "code",
   "execution_count": 4,
   "id": "4a6f2518",
   "metadata": {},
   "outputs": [
    {
     "name": "stdout",
     "output_type": "stream",
     "text": [
      "9\n"
     ]
    }
   ],
   "source": [
    "lw(4,5)"
   ]
  },
  {
   "cell_type": "code",
   "execution_count": 5,
   "id": "41226e73",
   "metadata": {},
   "outputs": [],
   "source": [
    "def lw(i ,j):\n",
    "    x = i\n",
    "    y = j\n",
    "    z = x + y\n",
    "    return z ##not to print just to store it"
   ]
  },
  {
   "cell_type": "code",
   "execution_count": 7,
   "id": "e512ebae",
   "metadata": {},
   "outputs": [],
   "source": [
    "y = lw(6,6)"
   ]
  },
  {
   "cell_type": "code",
   "execution_count": 11,
   "id": "6cc76eab",
   "metadata": {},
   "outputs": [],
   "source": [
    "def mysum(*x):\n",
    "    j = 0\n",
    "    for i in x:\n",
    "        j = i + j\n",
    "    \n",
    "    return j"
   ]
  },
  {
   "cell_type": "code",
   "execution_count": 12,
   "id": "35671f9c",
   "metadata": {},
   "outputs": [
    {
     "data": {
      "text/plain": [
       "10"
      ]
     },
     "execution_count": 12,
     "metadata": {},
     "output_type": "execute_result"
    }
   ],
   "source": [
    "mysum(1,2,3,4)"
   ]
  },
  {
   "cell_type": "code",
   "execution_count": 17,
   "id": "05204dd0",
   "metadata": {},
   "outputs": [],
   "source": [
    "def mydata(city,country,name):\n",
    "    print(\"ur city is :\" + city)\n",
    "    print(\"ur county is :\" + country)\n",
    "    print(\"ur name is : \" + name)"
   ]
  },
  {
   "cell_type": "code",
   "execution_count": 18,
   "id": "34450867",
   "metadata": {},
   "outputs": [
    {
     "name": "stdout",
     "output_type": "stream",
     "text": [
      "ur city is :jaipur\n",
      "ur county is :India\n",
      "ur name is : Vimal\n"
     ]
    }
   ],
   "source": [
    "mydata(\"jaipur\" , \"India\" , \"Vimal\")"
   ]
  },
  {
   "cell_type": "code",
   "execution_count": 19,
   "id": "d14f4177",
   "metadata": {},
   "outputs": [
    {
     "name": "stdout",
     "output_type": "stream",
     "text": [
      "ur city is :jaipur\n",
      "ur county is :India\n",
      "ur name is : Vimal\n"
     ]
    }
   ],
   "source": [
    "#named arguments\n",
    "mydata(city=\"jaipur\" , country=\"India\" , name=\"Vimal\")"
   ]
  },
  {
   "cell_type": "code",
   "execution_count": 20,
   "id": "c6bb1b52",
   "metadata": {},
   "outputs": [
    {
     "name": "stdout",
     "output_type": "stream",
     "text": [
      "red##hat\n"
     ]
    }
   ],
   "source": [
    "print(\"red\" , \"hat\" , sep=\"##\")"
   ]
  },
  {
   "cell_type": "code",
   "execution_count": null,
   "id": "0c74b3d0",
   "metadata": {},
   "outputs": [],
   "source": [
    "## TTS ## Text to Speak\n",
    "pip install pyttsx3"
   ]
  }
 ],
 "metadata": {
  "kernelspec": {
   "display_name": "Python 3 (ipykernel)",
   "language": "python",
   "name": "python3"
  },
  "language_info": {
   "codemirror_mode": {
    "name": "ipython",
    "version": 3
   },
   "file_extension": ".py",
   "mimetype": "text/x-python",
   "name": "python",
   "nbconvert_exporter": "python",
   "pygments_lexer": "ipython3",
   "version": "3.10.2"
  }
 },
 "nbformat": 4,
 "nbformat_minor": 5
}
