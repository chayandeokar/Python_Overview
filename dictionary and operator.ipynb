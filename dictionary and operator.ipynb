{
 "cells": [
  {
   "cell_type": "markdown",
   "id": "96622e8e",
   "metadata": {},
   "source": [
    "# Dictortionary and Operation"
   ]
  },
  {
   "cell_type": "code",
   "execution_count": 1,
   "id": "193fa188",
   "metadata": {},
   "outputs": [],
   "source": [
    "def mysum(*data):\n",
    "    print(data)\n",
    "    j=0\n",
    "    for i in data:\n",
    "        print(i)\n",
    "        j += 1\n",
    "        \n",
    "    return j"
   ]
  },
  {
   "cell_type": "code",
   "execution_count": 3,
   "id": "fc07d3c8",
   "metadata": {},
   "outputs": [
    {
     "name": "stdout",
     "output_type": "stream",
     "text": [
      "(1, 2, 3, 4)\n",
      "1\n",
      "2\n",
      "3\n",
      "4\n"
     ]
    },
    {
     "data": {
      "text/plain": [
       "4"
      ]
     },
     "execution_count": 3,
     "metadata": {},
     "output_type": "execute_result"
    }
   ],
   "source": [
    "mysum (*[1,2,3,4] )"
   ]
  },
  {
   "cell_type": "code",
   "execution_count": 4,
   "id": "659e2aa2",
   "metadata": {},
   "outputs": [
    {
     "name": "stdout",
     "output_type": "stream",
     "text": [
      "(1, 2, 3, 4)\n",
      "1\n",
      "2\n",
      "3\n",
      "4\n"
     ]
    },
    {
     "data": {
      "text/plain": [
       "4"
      ]
     },
     "execution_count": 4,
     "metadata": {},
     "output_type": "execute_result"
    }
   ],
   "source": [
    "mysum(1,2,3,4)"
   ]
  },
  {
   "cell_type": "markdown",
   "id": "4bb164c3",
   "metadata": {},
   "source": [
    "5>2 and 9>7"
   ]
  },
  {
   "cell_type": "code",
   "execution_count": 5,
   "id": "90a8bd59",
   "metadata": {},
   "outputs": [
    {
     "data": {
      "text/plain": [
       "True"
      ]
     },
     "execution_count": 5,
     "metadata": {},
     "output_type": "execute_result"
    }
   ],
   "source": [
    "5>2 and 9>7"
   ]
  },
  {
   "cell_type": "code",
   "execution_count": 6,
   "id": "76923002",
   "metadata": {},
   "outputs": [
    {
     "data": {
      "text/plain": [
       "True"
      ]
     },
     "execution_count": 6,
     "metadata": {},
     "output_type": "execute_result"
    }
   ],
   "source": [
    "5>2 or 9>7"
   ]
  },
  {
   "cell_type": "code",
   "execution_count": 7,
   "id": "d7ae43f6",
   "metadata": {},
   "outputs": [
    {
     "data": {
      "text/plain": [
       "False"
      ]
     },
     "execution_count": 7,
     "metadata": {},
     "output_type": "execute_result"
    }
   ],
   "source": [
    "5>2 and 9<7"
   ]
  },
  {
   "cell_type": "code",
   "execution_count": 14,
   "id": "a5f55745",
   "metadata": {},
   "outputs": [],
   "source": [
    "maths=35\n",
    "eco=90\n",
    "phy=34\n",
    "chem=50"
   ]
  },
  {
   "cell_type": "code",
   "execution_count": 15,
   "id": "7100e489",
   "metadata": {},
   "outputs": [],
   "source": [
    "school_condition = [\n",
    "    maths > 50,\n",
    "    eco > 50,\n",
    "    phy > 45,\n",
    "    chem > 50\n",
    "]"
   ]
  },
  {
   "cell_type": "code",
   "execution_count": 17,
   "id": "ee6fbcd1",
   "metadata": {},
   "outputs": [
    {
     "name": "stdout",
     "output_type": "stream",
     "text": [
      "fail\n"
     ]
    }
   ],
   "source": [
    "## AND logical operator \n",
    "if all(school_condition):\n",
    "    print(\"pass\")\n",
    "else:\n",
    "    print(\"fail\")"
   ]
  },
  {
   "cell_type": "code",
   "execution_count": 18,
   "id": "b3ffa737",
   "metadata": {},
   "outputs": [
    {
     "name": "stdout",
     "output_type": "stream",
     "text": [
      "pass\n"
     ]
    }
   ],
   "source": [
    "## OR operator\n",
    "if any(school_condition):\n",
    "    print(\"pass\")\n",
    "else:\n",
    "    print(\"fail\")"
   ]
  },
  {
   "cell_type": "code",
   "execution_count": 19,
   "id": "fb6dd4e2",
   "metadata": {},
   "outputs": [],
   "source": [
    "## Nested List \n",
    "\n",
    "month =  [\n",
    "    [1,2,3],\n",
    "    [2,3,4],\n",
    "    [3,4,5],\n",
    "    [6,7,8]\n",
    "]"
   ]
  },
  {
   "cell_type": "code",
   "execution_count": 21,
   "id": "2619339e",
   "metadata": {},
   "outputs": [
    {
     "data": {
      "text/plain": [
       "[1, 2, 3]"
      ]
     },
     "execution_count": 21,
     "metadata": {},
     "output_type": "execute_result"
    }
   ],
   "source": [
    "month[0]"
   ]
  },
  {
   "cell_type": "code",
   "execution_count": 22,
   "id": "67fdbb00",
   "metadata": {},
   "outputs": [
    {
     "data": {
      "text/plain": [
       "[3]"
      ]
     },
     "execution_count": 22,
     "metadata": {},
     "output_type": "execute_result"
    }
   ],
   "source": [
    "month[0][2:]"
   ]
  },
  {
   "cell_type": "code",
   "execution_count": 23,
   "id": "a67a956a",
   "metadata": {},
   "outputs": [],
   "source": [
    "## Numpy Array we can apply column and row wise both\n",
    "\n",
    "## list support only row not column"
   ]
  },
  {
   "cell_type": "code",
   "execution_count": null,
   "id": "cb2c2327",
   "metadata": {},
   "outputs": [],
   "source": [
    "import numpy"
   ]
  },
  {
   "cell_type": "code",
   "execution_count": null,
   "id": "9fba08ea",
   "metadata": {},
   "outputs": [],
   "source": [
    "final_month = numpy.array(month)"
   ]
  },
  {
   "cell_type": "code",
   "execution_count": null,
   "id": "d1a45041",
   "metadata": {},
   "outputs": [],
   "source": [
    "## final_month [ row , colmun]\n",
    "final_month=[2:3 , 1:4]"
   ]
  },
  {
   "cell_type": "code",
   "execution_count": 26,
   "id": "f830fdc9",
   "metadata": {},
   "outputs": [],
   "source": [
    "exp = 7"
   ]
  },
  {
   "cell_type": "code",
   "execution_count": 27,
   "id": "59713334",
   "metadata": {},
   "outputs": [
    {
     "name": "stdout",
     "output_type": "stream",
     "text": [
      "accpet\n"
     ]
    }
   ],
   "source": [
    "#comparasion chain\n",
    "if 2 < exp <10:\n",
    "    print(\"accpet\")\n",
    "else:\n",
    "    print(\"not\")"
   ]
  },
  {
   "cell_type": "code",
   "execution_count": 42,
   "id": "914fa085",
   "metadata": {},
   "outputs": [],
   "source": [
    "## Dictornary\n",
    "## Key:pair\n",
    "data = {'id':1 , 'county':\"india\" , 'name': \"Chayan Deokar\"}"
   ]
  },
  {
   "cell_type": "code",
   "execution_count": 43,
   "id": "b610ab89",
   "metadata": {},
   "outputs": [
    {
     "data": {
      "text/plain": [
       "1"
      ]
     },
     "execution_count": 43,
     "metadata": {},
     "output_type": "execute_result"
    }
   ],
   "source": [
    "data[\"id\"]"
   ]
  },
  {
   "cell_type": "code",
   "execution_count": 44,
   "id": "cc970566",
   "metadata": {},
   "outputs": [
    {
     "data": {
      "text/plain": [
       "dict_values([1, 'india', 'Chayan Deokar'])"
      ]
     },
     "execution_count": 44,
     "metadata": {},
     "output_type": "execute_result"
    }
   ],
   "source": [
    "data.values()"
   ]
  },
  {
   "cell_type": "code",
   "execution_count": 46,
   "id": "e063aa34",
   "metadata": {},
   "outputs": [],
   "source": [
    "import collections ## we can have collection of your data"
   ]
  },
  {
   "cell_type": "code",
   "execution_count": 47,
   "id": "7c3e337c",
   "metadata": {},
   "outputs": [],
   "source": [
    "data1 = {}"
   ]
  },
  {
   "cell_type": "code",
   "execution_count": 49,
   "id": "69e502a3",
   "metadata": {},
   "outputs": [
    {
     "data": {
      "text/plain": [
       "{'id': 1, 'county': 'india', 'name': 'Chayan Deokar'}"
      ]
     },
     "execution_count": 49,
     "metadata": {},
     "output_type": "execute_result"
    }
   ],
   "source": [
    "data"
   ]
  },
  {
   "cell_type": "code",
   "execution_count": 50,
   "id": "27396e86",
   "metadata": {},
   "outputs": [],
   "source": [
    "team1 = {'id': 1, 'county': 'india', 'name': 'Chayan Deokar'}"
   ]
  },
  {
   "cell_type": "code",
   "execution_count": 57,
   "id": "f3a83767",
   "metadata": {},
   "outputs": [],
   "source": [
    "team2 = {'pc': 3, 'gender': 'Male'}"
   ]
  },
  {
   "cell_type": "code",
   "execution_count": 58,
   "id": "7ae06f78",
   "metadata": {},
   "outputs": [],
   "source": [
    "## python3.9 and above it merge both teams\n",
    "finalteam = team1 | team2"
   ]
  },
  {
   "cell_type": "code",
   "execution_count": 59,
   "id": "55729288",
   "metadata": {},
   "outputs": [
    {
     "data": {
      "text/plain": [
       "{'id': 1,\n",
       " 'county': 'india',\n",
       " 'name': 'Chayan Deokar',\n",
       " 'pc': 3,\n",
       " 'gender': 'Male'}"
      ]
     },
     "execution_count": 59,
     "metadata": {},
     "output_type": "execute_result"
    }
   ],
   "source": [
    "finalteam"
   ]
  },
  {
   "cell_type": "code",
   "execution_count": 60,
   "id": "09eb0a1c",
   "metadata": {},
   "outputs": [],
   "source": [
    "import sys"
   ]
  },
  {
   "cell_type": "code",
   "execution_count": 61,
   "id": "c29d816b",
   "metadata": {},
   "outputs": [
    {
     "data": {
      "text/plain": [
       "'3.10.2 (tags/v3.10.2:a58ebcc, Jan 17 2022, 14:12:15) [MSC v.1929 64 bit (AMD64)]'"
      ]
     },
     "execution_count": 61,
     "metadata": {},
     "output_type": "execute_result"
    }
   ],
   "source": [
    "sys.version"
   ]
  },
  {
   "cell_type": "code",
   "execution_count": 65,
   "id": "59a3a62d",
   "metadata": {},
   "outputs": [],
   "source": [
    "# keyword argurment (**)\n",
    "def lw(**x):\n",
    "    print(type(x))"
   ]
  },
  {
   "cell_type": "code",
   "execution_count": 69,
   "id": "ff179512",
   "metadata": {},
   "outputs": [],
   "source": [
    "def mymerge(d1 ,d2):\n",
    "    return{**d1 , **d2}"
   ]
  },
  {
   "cell_type": "code",
   "execution_count": 70,
   "id": "3ac9279e",
   "metadata": {},
   "outputs": [
    {
     "data": {
      "text/plain": [
       "{'id': 1, 'name': 'chayan', 'company': 'redhat'}"
      ]
     },
     "execution_count": 70,
     "metadata": {},
     "output_type": "execute_result"
    }
   ],
   "source": [
    "mymerge({'id':1 , \"name\":\"chayan\"} , {'company':\"redhat\"})"
   ]
  },
  {
   "cell_type": "code",
   "execution_count": 71,
   "id": "08d6917b",
   "metadata": {},
   "outputs": [],
   "source": [
    "s = {1,1,2,4,4,5} ##Set"
   ]
  },
  {
   "cell_type": "code",
   "execution_count": 72,
   "id": "ea15b025",
   "metadata": {},
   "outputs": [
    {
     "data": {
      "text/plain": [
       "{1, 2, 4, 5}"
      ]
     },
     "execution_count": 72,
     "metadata": {},
     "output_type": "execute_result"
    }
   ],
   "source": [
    "s"
   ]
  },
  {
   "cell_type": "code",
   "execution_count": null,
   "id": "2ff82736",
   "metadata": {},
   "outputs": [],
   "source": [
    "## format we can apply where we want to do it"
   ]
  },
  {
   "cell_type": "code",
   "execution_count": 90,
   "id": "701fd296",
   "metadata": {},
   "outputs": [
    {
     "name": "stdout",
     "output_type": "stream",
     "text": [
      "enter your name : jacck\n"
     ]
    }
   ],
   "source": [
    "##n = \"chayan\"\n",
    "n=input(\"enter your name : \")\n",
    "t=\"india\""
   ]
  },
  {
   "cell_type": "code",
   "execution_count": 91,
   "id": "43f7d986",
   "metadata": {},
   "outputs": [],
   "source": [
    "s = \"this is welcome {} you\".format(n)"
   ]
  },
  {
   "cell_type": "code",
   "execution_count": 92,
   "id": "d4ab39b3",
   "metadata": {},
   "outputs": [
    {
     "data": {
      "text/plain": [
       "'this is welcome jacck you'"
      ]
     },
     "execution_count": 92,
     "metadata": {},
     "output_type": "execute_result"
    }
   ],
   "source": [
    "s"
   ]
  },
  {
   "cell_type": "code",
   "execution_count": 93,
   "id": "bedc0e02",
   "metadata": {},
   "outputs": [],
   "source": [
    "# String interpolation\n",
    "s= \"this is {0} and you are wrlcomed {1}\".format(n,t)"
   ]
  },
  {
   "cell_type": "code",
   "execution_count": 94,
   "id": "15fc3776",
   "metadata": {},
   "outputs": [
    {
     "data": {
      "text/plain": [
       "'this is jacck and you are wrlcomed india'"
      ]
     },
     "execution_count": 94,
     "metadata": {},
     "output_type": "execute_result"
    }
   ],
   "source": [
    "s"
   ]
  },
  {
   "cell_type": "code",
   "execution_count": null,
   "id": "a1b785ae",
   "metadata": {},
   "outputs": [],
   "source": []
  }
 ],
 "metadata": {
  "kernelspec": {
   "display_name": "Python 3 (ipykernel)",
   "language": "python",
   "name": "python3"
  },
  "language_info": {
   "codemirror_mode": {
    "name": "ipython",
    "version": 3
   },
   "file_extension": ".py",
   "mimetype": "text/x-python",
   "name": "python",
   "nbconvert_exporter": "python",
   "pygments_lexer": "ipython3",
   "version": "3.10.2"
  }
 },
 "nbformat": 4,
 "nbformat_minor": 5
}
