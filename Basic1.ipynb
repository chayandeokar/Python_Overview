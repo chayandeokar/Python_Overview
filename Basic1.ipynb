{
 "cells": [
  {
   "cell_type": "markdown",
   "id": "3dd4d3ff",
   "metadata": {},
   "source": [
    "# Basic About Python"
   ]
  },
  {
   "cell_type": "code",
   "execution_count": 1,
   "id": "fb922eff",
   "metadata": {},
   "outputs": [
    {
     "name": "stdout",
     "output_type": "stream",
     "text": [
      "hello\n"
     ]
    }
   ],
   "source": [
    "print(\"hello\")"
   ]
  },
  {
   "cell_type": "code",
   "execution_count": 7,
   "id": "11ab8019",
   "metadata": {},
   "outputs": [
    {
     "name": "stdout",
     "output_type": "stream",
     "text": [
      "5\n"
     ]
    },
    {
     "data": {
      "text/plain": [
       "int"
      ]
     },
     "execution_count": 7,
     "metadata": {},
     "output_type": "execute_result"
    }
   ],
   "source": [
    "x=5\n",
    "print(x)\n",
    "type(x)"
   ]
  },
  {
   "cell_type": "code",
   "execution_count": 8,
   "id": "987f9e0c",
   "metadata": {},
   "outputs": [
    {
     "name": "stdout",
     "output_type": "stream",
     "text": [
      "chayan\n"
     ]
    },
    {
     "data": {
      "text/plain": [
       "str"
      ]
     },
     "execution_count": 8,
     "metadata": {},
     "output_type": "execute_result"
    }
   ],
   "source": [
    "bottle=\"chayan\"\n",
    "print(bottle)\n",
    "type(bottle)"
   ]
  },
  {
   "cell_type": "code",
   "execution_count": 10,
   "id": "4c9bdfec",
   "metadata": {},
   "outputs": [
    {
     "data": {
      "text/plain": [
       "bool"
      ]
     },
     "execution_count": 10,
     "metadata": {},
     "output_type": "execute_result"
    }
   ],
   "source": [
    "x=True\n",
    "type(x)"
   ]
  },
  {
   "cell_type": "code",
   "execution_count": 16,
   "id": "c8b2ed85",
   "metadata": {},
   "outputs": [
    {
     "name": "stdout",
     "output_type": "stream",
     "text": [
      "['chayan', 'parth', 'Redhat', 'jack', 'ram']\n"
     ]
    },
    {
     "data": {
      "text/plain": [
       "list"
      ]
     },
     "execution_count": 16,
     "metadata": {},
     "output_type": "execute_result"
    }
   ],
   "source": [
    "##LIST\n",
    "db = [\"chayan\" , \"parth\" , \"Redhat\" , \"jack\" , \"ram\"]\n",
    "print(db)\n",
    "type(db)"
   ]
  },
  {
   "cell_type": "code",
   "execution_count": 17,
   "id": "3ef67475",
   "metadata": {},
   "outputs": [
    {
     "data": {
      "text/plain": [
       "'Redhat'"
      ]
     },
     "execution_count": 17,
     "metadata": {},
     "output_type": "execute_result"
    }
   ],
   "source": [
    "##Index start from 0\n",
    "db[2]"
   ]
  },
  {
   "cell_type": "code",
   "execution_count": 62,
   "id": "e41f9da3",
   "metadata": {},
   "outputs": [
    {
     "data": {
      "text/plain": [
       "['tommy', 'openshift', 'jack', 'Redhat', 'parth', 'chayan']"
      ]
     },
     "execution_count": 62,
     "metadata": {},
     "output_type": "execute_result"
    }
   ],
   "source": [
    "db"
   ]
  },
  {
   "cell_type": "code",
   "execution_count": 63,
   "id": "a741661a",
   "metadata": {},
   "outputs": [
    {
     "data": {
      "text/plain": [
       "['chayan', 'parth', 'Redhat', 'jack', 'openshift', 'tommy']"
      ]
     },
     "execution_count": 63,
     "metadata": {},
     "output_type": "execute_result"
    }
   ],
   "source": [
    "## email[::-1]\n",
    "db.reverse()\n",
    "db"
   ]
  },
  {
   "cell_type": "code",
   "execution_count": null,
   "id": "f7321e5f",
   "metadata": {},
   "outputs": [],
   "source": [
    "## It Genreally Have three parameter Values \n",
    "##start , End , Step "
   ]
  },
  {
   "cell_type": "code",
   "execution_count": 22,
   "id": "bb58e10a",
   "metadata": {},
   "outputs": [
    {
     "data": {
      "text/plain": [
       "['chayan', 'parth', 'Redhat']"
      ]
     },
     "execution_count": 22,
     "metadata": {},
     "output_type": "execute_result"
    }
   ],
   "source": [
    "#slice ##here last digit is excluded \n",
    "\n",
    "## db[start:end:step]\n",
    "\n",
    "db[0:3] or db [:3]"
   ]
  },
  {
   "cell_type": "code",
   "execution_count": 19,
   "id": "67bce71c",
   "metadata": {},
   "outputs": [
    {
     "data": {
      "text/plain": [
       "['parth', 'Redhat', 'jack']"
      ]
     },
     "execution_count": 19,
     "metadata": {},
     "output_type": "execute_result"
    }
   ],
   "source": [
    "db[1:4]"
   ]
  },
  {
   "cell_type": "code",
   "execution_count": 23,
   "id": "74bee1ac",
   "metadata": {},
   "outputs": [
    {
     "data": {
      "text/plain": [
       "['Redhat', 'jack', 'ram']"
      ]
     },
     "execution_count": 23,
     "metadata": {},
     "output_type": "execute_result"
    }
   ],
   "source": [
    "db[2:] ##if we dont provide end it will print till end "
   ]
  },
  {
   "cell_type": "code",
   "execution_count": 27,
   "id": "213e81de",
   "metadata": {},
   "outputs": [
    {
     "name": "stdout",
     "output_type": "stream",
     "text": [
      "('a', 'c', 'e', 'g')\n"
     ]
    }
   ],
   "source": [
    "a = (\"a\", \"b\", \"c\", \"d\", \"e\", \"f\", \"g\", \"h\")\n",
    "x = slice(0, 8 , 2) ## If we want to skip and print S\n",
    "print(a[x])"
   ]
  },
  {
   "cell_type": "code",
   "execution_count": 28,
   "id": "bf72b4ff",
   "metadata": {},
   "outputs": [],
   "source": [
    "db.append(\"tom\") ## to add data in list "
   ]
  },
  {
   "cell_type": "code",
   "execution_count": 30,
   "id": "bf16b608",
   "metadata": {},
   "outputs": [
    {
     "data": {
      "text/plain": [
       "['__add__',\n",
       " '__class__',\n",
       " '__class_getitem__',\n",
       " '__contains__',\n",
       " '__delattr__',\n",
       " '__delitem__',\n",
       " '__dir__',\n",
       " '__doc__',\n",
       " '__eq__',\n",
       " '__format__',\n",
       " '__ge__',\n",
       " '__getattribute__',\n",
       " '__getitem__',\n",
       " '__gt__',\n",
       " '__hash__',\n",
       " '__iadd__',\n",
       " '__imul__',\n",
       " '__init__',\n",
       " '__init_subclass__',\n",
       " '__iter__',\n",
       " '__le__',\n",
       " '__len__',\n",
       " '__lt__',\n",
       " '__mul__',\n",
       " '__ne__',\n",
       " '__new__',\n",
       " '__reduce__',\n",
       " '__reduce_ex__',\n",
       " '__repr__',\n",
       " '__reversed__',\n",
       " '__rmul__',\n",
       " '__setattr__',\n",
       " '__setitem__',\n",
       " '__sizeof__',\n",
       " '__str__',\n",
       " '__subclasshook__',\n",
       " 'append',\n",
       " 'clear',\n",
       " 'copy',\n",
       " 'count',\n",
       " 'extend',\n",
       " 'index',\n",
       " 'insert',\n",
       " 'pop',\n",
       " 'remove',\n",
       " 'reverse',\n",
       " 'sort']"
      ]
     },
     "execution_count": 30,
     "metadata": {},
     "output_type": "execute_result"
    }
   ],
   "source": [
    "dir(db)"
   ]
  },
  {
   "cell_type": "code",
   "execution_count": 31,
   "id": "ad8b4cb9",
   "metadata": {},
   "outputs": [
    {
     "data": {
      "text/plain": [
       "5"
      ]
     },
     "execution_count": 31,
     "metadata": {},
     "output_type": "execute_result"
    }
   ],
   "source": [
    "db.index(\"tom\") ## we can find Index Number"
   ]
  },
  {
   "cell_type": "code",
   "execution_count": 39,
   "id": "5ad48e95",
   "metadata": {},
   "outputs": [
    {
     "data": {
      "text/plain": [
       "['chayan', 'parth', 'Redhat', 'jack', 'ram', 'tommy']"
      ]
     },
     "execution_count": 39,
     "metadata": {},
     "output_type": "execute_result"
    }
   ],
   "source": [
    "db[5] = \"tommy\"\n",
    "db"
   ]
  },
  {
   "cell_type": "code",
   "execution_count": 40,
   "id": "b60a4d14",
   "metadata": {},
   "outputs": [
    {
     "data": {
      "text/plain": [
       "['chayan', 'parth', 'Redhat', 'jack', 'openshift', 'tommy']"
      ]
     },
     "execution_count": 40,
     "metadata": {},
     "output_type": "execute_result"
    }
   ],
   "source": [
    "db [db.index(\"ram\")] = \"openshift\"\n",
    "db"
   ]
  },
  {
   "cell_type": "code",
   "execution_count": 41,
   "id": "e04d709d",
   "metadata": {},
   "outputs": [
    {
     "name": "stdout",
     "output_type": "stream",
     "text": [
      "5\n"
     ]
    }
   ],
   "source": [
    "##Small Adition program\n",
    "\n",
    "x=2\n",
    "y=3\n",
    "z= y+x\n",
    "print(z)"
   ]
  },
  {
   "cell_type": "code",
   "execution_count": 46,
   "id": "4340c932",
   "metadata": {},
   "outputs": [],
   "source": [
    "s =\"Redhat openshift\""
   ]
  },
  {
   "cell_type": "code",
   "execution_count": 47,
   "id": "036e0b81",
   "metadata": {},
   "outputs": [
    {
     "data": {
      "text/plain": [
       "'hat openshift'"
      ]
     },
     "execution_count": 47,
     "metadata": {},
     "output_type": "execute_result"
    }
   ],
   "source": [
    "s[3:]"
   ]
  },
  {
   "cell_type": "code",
   "execution_count": 48,
   "id": "6ea4cc0c",
   "metadata": {},
   "outputs": [
    {
     "data": {
      "text/plain": [
       "'at op'"
      ]
     },
     "execution_count": 48,
     "metadata": {},
     "output_type": "execute_result"
    }
   ],
   "source": [
    "s[4:9] ##last one digit get execded"
   ]
  },
  {
   "cell_type": "code",
   "execution_count": 49,
   "id": "722b3e44",
   "metadata": {},
   "outputs": [
    {
     "data": {
      "text/plain": [
       "['__add__',\n",
       " '__class__',\n",
       " '__contains__',\n",
       " '__delattr__',\n",
       " '__dir__',\n",
       " '__doc__',\n",
       " '__eq__',\n",
       " '__format__',\n",
       " '__ge__',\n",
       " '__getattribute__',\n",
       " '__getitem__',\n",
       " '__getnewargs__',\n",
       " '__gt__',\n",
       " '__hash__',\n",
       " '__init__',\n",
       " '__init_subclass__',\n",
       " '__iter__',\n",
       " '__le__',\n",
       " '__len__',\n",
       " '__lt__',\n",
       " '__mod__',\n",
       " '__mul__',\n",
       " '__ne__',\n",
       " '__new__',\n",
       " '__reduce__',\n",
       " '__reduce_ex__',\n",
       " '__repr__',\n",
       " '__rmod__',\n",
       " '__rmul__',\n",
       " '__setattr__',\n",
       " '__sizeof__',\n",
       " '__str__',\n",
       " '__subclasshook__',\n",
       " 'capitalize',\n",
       " 'casefold',\n",
       " 'center',\n",
       " 'count',\n",
       " 'encode',\n",
       " 'endswith',\n",
       " 'expandtabs',\n",
       " 'find',\n",
       " 'format',\n",
       " 'format_map',\n",
       " 'index',\n",
       " 'isalnum',\n",
       " 'isalpha',\n",
       " 'isascii',\n",
       " 'isdecimal',\n",
       " 'isdigit',\n",
       " 'isidentifier',\n",
       " 'islower',\n",
       " 'isnumeric',\n",
       " 'isprintable',\n",
       " 'isspace',\n",
       " 'istitle',\n",
       " 'isupper',\n",
       " 'join',\n",
       " 'ljust',\n",
       " 'lower',\n",
       " 'lstrip',\n",
       " 'maketrans',\n",
       " 'partition',\n",
       " 'removeprefix',\n",
       " 'removesuffix',\n",
       " 'replace',\n",
       " 'rfind',\n",
       " 'rindex',\n",
       " 'rjust',\n",
       " 'rpartition',\n",
       " 'rsplit',\n",
       " 'rstrip',\n",
       " 'split',\n",
       " 'splitlines',\n",
       " 'startswith',\n",
       " 'strip',\n",
       " 'swapcase',\n",
       " 'title',\n",
       " 'translate',\n",
       " 'upper',\n",
       " 'zfill']"
      ]
     },
     "execution_count": 49,
     "metadata": {},
     "output_type": "execute_result"
    }
   ],
   "source": [
    "dir(s)"
   ]
  },
  {
   "cell_type": "code",
   "execution_count": 50,
   "id": "3f920603",
   "metadata": {},
   "outputs": [
    {
     "data": {
      "text/plain": [
       "'Redhat openshift'"
      ]
     },
     "execution_count": 50,
     "metadata": {},
     "output_type": "execute_result"
    }
   ],
   "source": [
    "s.capitalize()"
   ]
  },
  {
   "cell_type": "code",
   "execution_count": 54,
   "id": "be028b0d",
   "metadata": {},
   "outputs": [
    {
     "data": {
      "text/plain": [
       "0"
      ]
     },
     "execution_count": 54,
     "metadata": {},
     "output_type": "execute_result"
    }
   ],
   "source": [
    "s.count(\"ram\")"
   ]
  },
  {
   "cell_type": "code",
   "execution_count": 64,
   "id": "a50a7ffe",
   "metadata": {},
   "outputs": [
    {
     "data": {
      "text/plain": [
       "'tfihsnepo tahdeR'"
      ]
     },
     "execution_count": 64,
     "metadata": {},
     "output_type": "execute_result"
    }
   ],
   "source": [
    "s[::-1] ##reverse the string "
   ]
  },
  {
   "cell_type": "code",
   "execution_count": 65,
   "id": "c0d5dc72",
   "metadata": {},
   "outputs": [],
   "source": [
    "s = \"this is linux world\""
   ]
  },
  {
   "cell_type": "code",
   "execution_count": 66,
   "id": "eb6b9b11",
   "metadata": {},
   "outputs": [
    {
     "data": {
      "text/plain": [
       "True"
      ]
     },
     "execution_count": 66,
     "metadata": {},
     "output_type": "execute_result"
    }
   ],
   "source": [
    "\"linux\" in s"
   ]
  },
  {
   "cell_type": "code",
   "execution_count": 67,
   "id": "b40d1b18",
   "metadata": {},
   "outputs": [],
   "source": [
    "x =4\n",
    "y =5"
   ]
  },
  {
   "cell_type": "code",
   "execution_count": 68,
   "id": "4ab3e634",
   "metadata": {},
   "outputs": [],
   "source": [
    "x ,y = y ,x ##swaping"
   ]
  },
  {
   "cell_type": "code",
   "execution_count": 70,
   "id": "3954bba3",
   "metadata": {},
   "outputs": [
    {
     "data": {
      "text/plain": [
       "(5, 4)"
      ]
     },
     "execution_count": 70,
     "metadata": {},
     "output_type": "execute_result"
    }
   ],
   "source": [
    "x  , y"
   ]
  },
  {
   "cell_type": "code",
   "execution_count": 73,
   "id": "8570d701",
   "metadata": {},
   "outputs": [
    {
     "data": {
      "text/plain": [
       "144"
      ]
     },
     "execution_count": 73,
     "metadata": {},
     "output_type": "execute_result"
    }
   ],
   "source": [
    "6 * 6 * 4##Multiply"
   ]
  },
  {
   "cell_type": "code",
   "execution_count": 74,
   "id": "e2e0ea9f",
   "metadata": {},
   "outputs": [
    {
     "data": {
      "text/plain": [
       "36"
      ]
     },
     "execution_count": 74,
     "metadata": {},
     "output_type": "execute_result"
    }
   ],
   "source": [
    "6 ** 2 ##power"
   ]
  },
  {
   "cell_type": "code",
   "execution_count": null,
   "id": "1763ff1f",
   "metadata": {},
   "outputs": [],
   "source": []
  }
 ],
 "metadata": {
  "kernelspec": {
   "display_name": "Python 3 (ipykernel)",
   "language": "python",
   "name": "python3"
  },
  "language_info": {
   "codemirror_mode": {
    "name": "ipython",
    "version": 3
   },
   "file_extension": ".py",
   "mimetype": "text/x-python",
   "name": "python",
   "nbconvert_exporter": "python",
   "pygments_lexer": "ipython3",
   "version": "3.10.2"
  }
 },
 "nbformat": 4,
 "nbformat_minor": 5
}
