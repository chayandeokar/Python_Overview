{
 "cells": [
  {
   "cell_type": "code",
   "execution_count": 1,
   "id": "216a7be9",
   "metadata": {},
   "outputs": [],
   "source": [
    "##find most frequent elelmt"
   ]
  },
  {
   "cell_type": "code",
   "execution_count": 6,
   "id": "7db9a0e9",
   "metadata": {},
   "outputs": [],
   "source": [
    "db = [3,3,4,9,5,9,7,95,6,7,8,9]"
   ]
  },
  {
   "cell_type": "code",
   "execution_count": 7,
   "id": "c75df6eb",
   "metadata": {},
   "outputs": [
    {
     "data": {
      "text/plain": [
       "95"
      ]
     },
     "execution_count": 7,
     "metadata": {},
     "output_type": "execute_result"
    }
   ],
   "source": [
    "max(db)"
   ]
  },
  {
   "cell_type": "code",
   "execution_count": 8,
   "id": "b6e47919",
   "metadata": {},
   "outputs": [
    {
     "data": {
      "text/plain": [
       "3"
      ]
     },
     "execution_count": 8,
     "metadata": {},
     "output_type": "execute_result"
    }
   ],
   "source": [
    "db.count(9)"
   ]
  },
  {
   "cell_type": "code",
   "execution_count": 9,
   "id": "2e29b32e",
   "metadata": {},
   "outputs": [],
   "source": [
    " ## Join Function"
   ]
  },
  {
   "cell_type": "code",
   "execution_count": 12,
   "id": "b89b4dae",
   "metadata": {},
   "outputs": [
    {
     "data": {
      "text/plain": [
       "['this', 'is', 'me', 'redhat']"
      ]
     },
     "execution_count": 12,
     "metadata": {},
     "output_type": "execute_result"
    }
   ],
   "source": [
    "db = [\"this\" , \"is\" , \"me\" , \"redhat\"]\n",
    "db"
   ]
  },
  {
   "cell_type": "code",
   "execution_count": 14,
   "id": "63d22b4b",
   "metadata": {},
   "outputs": [],
   "source": [
    "s=\" \".join(db)"
   ]
  },
  {
   "cell_type": "code",
   "execution_count": 15,
   "id": "b5c2958f",
   "metadata": {},
   "outputs": [
    {
     "data": {
      "text/plain": [
       "'this is me redhat'"
      ]
     },
     "execution_count": 15,
     "metadata": {},
     "output_type": "execute_result"
    }
   ],
   "source": [
    "s\n"
   ]
  },
  {
   "cell_type": "code",
   "execution_count": 17,
   "id": "6e6e42c5",
   "metadata": {},
   "outputs": [
    {
     "data": {
      "text/plain": [
       "['this is me redhat']"
      ]
     },
     "execution_count": 17,
     "metadata": {},
     "output_type": "execute_result"
    }
   ],
   "source": [
    "# field separator and delimtor \n",
    "s.split(\" , \")"
   ]
  },
  {
   "cell_type": "code",
   "execution_count": 18,
   "id": "3365ccc4",
   "metadata": {},
   "outputs": [
    {
     "data": {
      "text/plain": [
       "0"
      ]
     },
     "execution_count": 18,
     "metadata": {},
     "output_type": "execute_result"
    }
   ],
   "source": [
    "#moduls operator\n",
    "6%2"
   ]
  },
  {
   "cell_type": "code",
   "execution_count": 19,
   "id": "4fd1acd5",
   "metadata": {},
   "outputs": [],
   "source": [
    "## ast list >> string\n",
    "import ast"
   ]
  },
  {
   "cell_type": "code",
   "execution_count": 20,
   "id": "b56c51a9",
   "metadata": {},
   "outputs": [],
   "source": [
    "s = {1,2,3,3,4,5,5}"
   ]
  },
  {
   "cell_type": "code",
   "execution_count": 21,
   "id": "dbe58e2c",
   "metadata": {},
   "outputs": [
    {
     "data": {
      "text/plain": [
       "{1, 2, 3, 4, 5}"
      ]
     },
     "execution_count": 21,
     "metadata": {},
     "output_type": "execute_result"
    }
   ],
   "source": [
    "s"
   ]
  },
  {
   "cell_type": "code",
   "execution_count": 22,
   "id": "ac6b081f",
   "metadata": {},
   "outputs": [],
   "source": [
    "#create Set into immutable form  \n",
    "ros = frozenset(s)"
   ]
  },
  {
   "cell_type": "code",
   "execution_count": 23,
   "id": "e0da1902",
   "metadata": {},
   "outputs": [
    {
     "data": {
      "text/plain": [
       "frozenset"
      ]
     },
     "execution_count": 23,
     "metadata": {},
     "output_type": "execute_result"
    }
   ],
   "source": [
    "type(ros)"
   ]
  },
  {
   "cell_type": "code",
   "execution_count": 24,
   "id": "d3c878cc",
   "metadata": {},
   "outputs": [],
   "source": [
    "## lambda Functionn##\n",
    "## any fuction that has no name is knows as anyonus fuction\n"
   ]
  },
  {
   "cell_type": "code",
   "execution_count": 25,
   "id": "36f3e94e",
   "metadata": {},
   "outputs": [],
   "source": [
    "def power(n):\n",
    "    return n**2"
   ]
  },
  {
   "cell_type": "code",
   "execution_count": 26,
   "id": "e65c79ea",
   "metadata": {},
   "outputs": [
    {
     "data": {
      "text/plain": [
       "4"
      ]
     },
     "execution_count": 26,
     "metadata": {},
     "output_type": "execute_result"
    }
   ],
   "source": [
    "power(2)"
   ]
  },
  {
   "cell_type": "code",
   "execution_count": 28,
   "id": "a1a26f4e",
   "metadata": {},
   "outputs": [],
   "source": [
    "p = lambda n: n**2"
   ]
  },
  {
   "cell_type": "code",
   "execution_count": 29,
   "id": "618dc2f6",
   "metadata": {},
   "outputs": [
    {
     "data": {
      "text/plain": [
       "25"
      ]
     },
     "execution_count": 29,
     "metadata": {},
     "output_type": "execute_result"
    }
   ],
   "source": [
    "p(5)"
   ]
  },
  {
   "cell_type": "code",
   "execution_count": 30,
   "id": "5b6b3081",
   "metadata": {},
   "outputs": [],
   "source": [
    "## filter the data ## "
   ]
  },
  {
   "cell_type": "code",
   "execution_count": null,
   "id": "dfec3a2b",
   "metadata": {},
   "outputs": [],
   "source": []
  }
 ],
 "metadata": {
  "kernelspec": {
   "display_name": "Python 3 (ipykernel)",
   "language": "python",
   "name": "python3"
  },
  "language_info": {
   "codemirror_mode": {
    "name": "ipython",
    "version": 3
   },
   "file_extension": ".py",
   "mimetype": "text/x-python",
   "name": "python",
   "nbconvert_exporter": "python",
   "pygments_lexer": "ipython3",
   "version": "3.10.2"
  }
 },
 "nbformat": 4,
 "nbformat_minor": 5
}
